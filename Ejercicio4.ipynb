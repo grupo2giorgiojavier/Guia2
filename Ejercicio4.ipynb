{
  "nbformat": 4,
  "nbformat_minor": 0,
  "metadata": {
    "colab": {
      "name": "Ejercicio4.ipynb",
      "provenance": [],
      "authorship_tag": "ABX9TyOrqoVXdidN4SJ6HHQSsY+M"
    },
    "kernelspec": {
      "name": "python3",
      "display_name": "Python 3"
    }
  },
  "cells": [
    {
      "cell_type": "code",
      "metadata": {
        "id": "KDi2Lm5RpA28",
        "colab_type": "code",
        "colab": {
          "base_uri": "https://localhost:8080/",
          "height": 50
        },
        "outputId": "cc1f2117-8665-4d8a-e7ce-ee46bb8d50a2"
      },
      "source": [
        "while True:\n",
        "  try:\n",
        "    final=int(input('Sumar desde 1 hasta: '))\n",
        "    break\n",
        "  except ValueError:\n",
        "    print('Porfavor solo ingresar números enteros')\n",
        "sum=0\n",
        "sumc=''\n",
        "for i in range(1,final+1):\n",
        "    sumc += str(i)+ ' + '\n",
        "    sum+=i\n",
        "print(sumc[:-3],'=', sum)"
      ],
      "execution_count": 44,
      "outputs": [
        {
          "output_type": "stream",
          "text": [
            "Sumar desde 1 hasta: 9\n",
            "1 + 2 + 3 + 4 + 5 + 6 + 7 + 8 + 9 = 45\n"
          ],
          "name": "stdout"
        }
      ]
    }
  ]
}